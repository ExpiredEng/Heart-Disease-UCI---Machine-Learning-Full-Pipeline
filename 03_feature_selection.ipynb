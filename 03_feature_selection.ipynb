{
 "cells": [
  {
   "cell_type": "code",
   "execution_count": 2,
   "id": "8ce43d8e",
   "metadata": {},
   "outputs": [
    {
     "name": "stdout",
     "output_type": "stream",
     "text": [
      "thalach      0.102121\n",
      "thal_3.0     0.102089\n",
      "oldpeak      0.091865\n",
      "ca_0.0       0.088654\n",
      "age          0.080317\n",
      "cp_4.0       0.080056\n",
      "chol         0.069603\n",
      "trestbps     0.066766\n",
      "thal_7.0     0.055302\n",
      "exang        0.043825\n",
      "slope_1.0    0.038268\n",
      "sex          0.026189\n",
      "cp_3.0       0.024937\n",
      "slope_2.0    0.021806\n",
      "ca_1.0       0.015859\n",
      "dtype: float64\n",
      "RFE selected: ['oldpeak', 'cp_3.0', 'cp_4.0', 'restecg_0.0', 'slope_2.0', 'thal_3.0', 'thal_7.0', 'ca_0.0']\n",
      "Chi2 selected: ['exang', 'cp_3.0', 'cp_4.0', 'slope_1.0', 'slope_2.0', 'thal_3.0', 'thal_7.0', 'ca_0.0']\n",
      "Selected features: ['thalach', 'thal_3.0', 'oldpeak', 'ca_0.0', 'age', 'cp_4.0', 'chol', 'trestbps', 'thal_7.0', 'exang', 'slope_1.0', 'sex']\n"
     ]
    }
   ],
   "source": [
    "# notebooks/03_feature_selection.py\n",
    "from sklearn.ensemble import RandomForestClassifier\n",
    "from sklearn.feature_selection import RFE, chi2, SelectKBest\n",
    "import pandas as pd\n",
    "import numpy as np\n",
    "\n",
    "df = pd.read_csv(r'C:\\Users\\pc\\Documents\\Basel BME\\Programming\\Python\\SPRINTS Heart Disease Project\\python\\data\\heart_disease_clean.csv')\n",
    "X = df.drop('target',axis=1)\n",
    "y = df['target']\n",
    "\n",
    "# RandomForest importance\n",
    "rf = RandomForestClassifier(random_state=42)\n",
    "rf.fit(X, y)\n",
    "importances = pd.Series(rf.feature_importances_, index=X.columns).sort_values(ascending=False)\n",
    "print(importances.head(15))\n",
    "\n",
    "# RFE with LogisticRegression as example\n",
    "from sklearn.linear_model import LogisticRegression\n",
    "lr = LogisticRegression(max_iter=1000)\n",
    "rfe = RFE(lr, n_features_to_select=8)\n",
    "rfe.fit(X, y)\n",
    "rfe_support = pd.Series(rfe.support_, index=X.columns)\n",
    "print(\"RFE selected:\", rfe_support[rfe_support].index.tolist())\n",
    "\n",
    "# Chi-Square on non-negative features (if needed convert to positive)\n",
    "from sklearn.preprocessing import MinMaxScaler\n",
    "X_pos = MinMaxScaler().fit_transform(X)\n",
    "chi2selector = SelectKBest(chi2, k=8)\n",
    "chi2selector.fit(X_pos, y)\n",
    "chi2_support = pd.Series(chi2selector.get_support(), index=X.columns)\n",
    "print(\"Chi2 selected:\", chi2_support[chi2_support].index.tolist())\n",
    "\n",
    "# Decide final features (example combine results)\n",
    "selected = list(importances.head(12).index)\n",
    "print(\"Selected features:\", selected)\n"
   ]
  }
 ],
 "metadata": {
  "kernelspec": {
   "display_name": "Python 3",
   "language": "python",
   "name": "python3"
  },
  "language_info": {
   "codemirror_mode": {
    "name": "ipython",
    "version": 3
   },
   "file_extension": ".py",
   "mimetype": "text/x-python",
   "name": "python",
   "nbconvert_exporter": "python",
   "pygments_lexer": "ipython3",
   "version": "3.13.3"
  }
 },
 "nbformat": 4,
 "nbformat_minor": 5
}
