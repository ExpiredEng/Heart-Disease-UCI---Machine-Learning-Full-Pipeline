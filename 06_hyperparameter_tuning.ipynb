{
 "cells": [
  {
   "cell_type": "code",
   "execution_count": 4,
   "id": "e14d4ded",
   "metadata": {},
   "outputs": [
    {
     "name": "stdout",
     "output_type": "stream",
     "text": [
      "Best params: {'max_depth': 5, 'min_samples_split': 10, 'n_estimators': 200}\n",
      "Best score: 0.9100281084656086\n",
      "Saved tuned model.\n"
     ]
    }
   ],
   "source": [
    "# notebooks/06_hyperparameter_tuning.py\n",
    "from sklearn.model_selection import GridSearchCV\n",
    "from sklearn.ensemble import RandomForestClassifier\n",
    "import pandas as pd\n",
    "\n",
    "df = pd.read_csv(r'C:\\Users\\pc\\Documents\\Basel BME\\Programming\\Python\\SPRINTS Heart Disease Project\\python\\data\\heart_disease_clean.csv')\n",
    "X = df.drop('target',axis=1); y = df['target']\n",
    "\n",
    "param_grid = {\n",
    "    'n_estimators': [50, 100, 200],\n",
    "    'max_depth': [None, 5, 10, 20],\n",
    "    'min_samples_split': [2,5,10]\n",
    "}\n",
    "rf = RandomForestClassifier(random_state=42)\n",
    "grid = GridSearchCV(rf, param_grid, cv=5, scoring='roc_auc', n_jobs=-1)\n",
    "grid.fit(X, y)\n",
    "print(\"Best params:\", grid.best_params_)\n",
    "print(\"Best score:\", grid.best_score_)\n",
    "\n",
    "import joblib\n",
    "joblib.dump(grid.best_estimator_, r'C:\\Users\\pc\\Documents\\Basel BME\\Programming\\Python\\SPRINTS Heart Disease Project\\python\\models\\final_model.pkl')\n",
    "print(\"Saved tuned model.\")\n"
   ]
  }
 ],
 "metadata": {
  "kernelspec": {
   "display_name": "Python 3",
   "language": "python",
   "name": "python3"
  },
  "language_info": {
   "codemirror_mode": {
    "name": "ipython",
    "version": 3
   },
   "file_extension": ".py",
   "mimetype": "text/x-python",
   "name": "python",
   "nbconvert_exporter": "python",
   "pygments_lexer": "ipython3",
   "version": "3.13.3"
  }
 },
 "nbformat": 4,
 "nbformat_minor": 5
}
