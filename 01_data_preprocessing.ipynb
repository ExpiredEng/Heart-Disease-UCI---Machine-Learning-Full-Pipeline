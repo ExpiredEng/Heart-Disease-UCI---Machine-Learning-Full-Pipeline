{
 "cells": [
  {
   "cell_type": "markdown",
   "id": "ffdf0e0c",
   "metadata": {},
   "source": [
    "Loading the required dataset in csv  (processed.cleveland.data -> heart_disease.csv)"
   ]
  },
  {
   "cell_type": "code",
   "execution_count": 7,
   "id": "012a6c35",
   "metadata": {},
   "outputs": [
    {
     "name": "stdout",
     "output_type": "stream",
     "text": [
      "(297, 14)\n",
      "    age  sex   cp  trestbps   chol  fbs  restecg  thalach  exang  oldpeak  \\\n",
      "0  63.0  1.0  1.0     145.0  233.0  1.0      2.0    150.0    0.0      2.3   \n",
      "1  67.0  1.0  4.0     160.0  286.0  0.0      2.0    108.0    1.0      1.5   \n",
      "2  67.0  1.0  4.0     120.0  229.0  0.0      2.0    129.0    1.0      2.6   \n",
      "3  37.0  1.0  3.0     130.0  250.0  0.0      0.0    187.0    0.0      3.5   \n",
      "4  41.0  0.0  2.0     130.0  204.0  0.0      2.0    172.0    0.0      1.4   \n",
      "\n",
      "   slope   ca  thal  target  \n",
      "0    3.0  0.0   6.0       0  \n",
      "1    2.0  3.0   3.0       1  \n",
      "2    2.0  2.0   7.0       1  \n",
      "3    3.0  0.0   3.0       0  \n",
      "4    1.0  0.0   3.0       0  \n"
     ]
    }
   ],
   "source": [
    "import pandas as pd\n",
    "\n",
    "# Load processed.cleveland (space-delimited or comma-delimited depending on file)\n",
    "df = pd.read_csv(r\"C:\\Users\\pc\\Documents\\Basel BME\\Programming\\Python\\SPRINTS Heart Disease Project\\processed.cleveland.data\", header=None)\n",
    "\n",
    "# Add column names\n",
    "df.columns = [\n",
    "    \"age\", \"sex\", \"cp\", \"trestbps\", \"chol\", \"fbs\", \"restecg\",\n",
    "    \"thalach\", \"exang\", \"oldpeak\", \"slope\", \"ca\", \"thal\", \"target\"\n",
    "]\n",
    "\n",
    "# Replace missing values \"?\" with NaN\n",
    "df.replace(\"?\", pd.NA, inplace=True)\n",
    "\n",
    "# Convert numeric columns\n",
    "for col in [\"ca\", \"thal\"]:\n",
    "    df[col] = pd.to_numeric(df[col], errors=\"coerce\")\n",
    "\n",
    "# Drop rows with missing values (or impute)\n",
    "df = df.dropna()\n",
    "\n",
    "# Binarize target (0 = no disease, 1 = disease)\n",
    "df[\"target\"] = (df[\"target\"] > 0).astype(int)\n",
    "df.to_csv(r\"C:\\Users\\pc\\Documents\\Basel BME\\Programming\\Python\\SPRINTS Heart Disease Project\\python\\data\\heart_disease.csv\", index=False)\n",
    "\n",
    "\n",
    "print(df.shape)\n",
    "print(df.head())\n"
   ]
  },
  {
   "cell_type": "code",
   "execution_count": 11,
   "id": "5daabca6",
   "metadata": {},
   "outputs": [
    {
     "name": "stdout",
     "output_type": "stream",
     "text": [
      "Saved cleaned CSV.\n"
     ]
    }
   ],
   "source": [
    "\n",
    "import pandas as pd\n",
    "import numpy as np\n",
    "from sklearn.model_selection import train_test_split\n",
    "from sklearn.compose import ColumnTransformer\n",
    "from sklearn.pipeline import Pipeline\n",
    "from sklearn.impute import SimpleImputer\n",
    "from sklearn.preprocessing import StandardScaler, OneHotEncoder, MinMaxScaler\n",
    "import matplotlib.pyplot as plt\n",
    "import seaborn as sns\n",
    "\n",
    "# Load\n",
    "df = pd.read_csv(r'C:\\Users\\pc\\Documents\\Basel BME\\Programming\\Python\\SPRINTS Heart Disease Project\\python\\data\\heart_disease.csv')\n",
    "\n",
    "\n",
    "\n",
    "# If target is 0..4 (some UCI variations), binarize: 0 -> 0, 1-4 -> 1\n",
    "if df['target'].nunique() > 2:\n",
    "    df['target'] = (df['target'] > 0).astype(int)\n",
    "\n",
    "# Example column typing (adjust if your dataset uses different names)\n",
    "# numeric_cols = ['age','trestbps','chol','thalach','oldpeak']  # example\n",
    "numeric_cols = df.select_dtypes(include=['int64','float64']).columns.drop('target').tolist()\n",
    "cat_cols = df.select_dtypes(include=['object','category']).columns.tolist()\n",
    "\n",
    "# If categorical columns are numeric-coded (e.g., 'cp', 'restecg', 'slope', 'thal', 'ca') keep them as categorical\n",
    "# Convert known-coded columns to str to one-hot encode\n",
    "for c in ['cp','restecg','slope','thal','ca']:\n",
    "    if c in df.columns:\n",
    "        df[c] = df[c].astype(str)\n",
    "        if c not in cat_cols:\n",
    "            cat_cols.append(c)\n",
    "        if c in numeric_cols:\n",
    "            numeric_cols.remove(c)\n",
    "\n",
    "# Impute and scale\n",
    "numeric_transformer = Pipeline(steps=[\n",
    "    ('imputer', SimpleImputer(strategy='median')),\n",
    "    ('scaler', StandardScaler())\n",
    "])\n",
    "\n",
    "categorical_transformer = Pipeline(steps=[\n",
    "    ('imputer', SimpleImputer(strategy='most_frequent')),\n",
    "    ('onehot', OneHotEncoder(handle_unknown='ignore', sparse_output=False))\n",
    "])\n",
    "\n",
    "preprocessor = ColumnTransformer(transformers=[\n",
    "    ('num', numeric_transformer, numeric_cols),\n",
    "    ('cat', categorical_transformer, cat_cols)\n",
    "])\n",
    "\n",
    "# Save cleaned dataset\n",
    "X = df.drop('target', axis=1)\n",
    "y = df['target']\n",
    "X_clean = pd.DataFrame(preprocessor.fit_transform(X),\n",
    "                       columns=(numeric_cols + list(preprocessor.named_transformers_['cat']['onehot'].get_feature_names_out(cat_cols))))\n",
    "cleaned = pd.concat([X_clean, y.reset_index(drop=True)], axis=1)\n",
    "cleaned.to_csv(r'C:\\Users\\pc\\Documents\\Basel BME\\Programming\\Python\\SPRINTS Heart Disease Project\\python\\data\\heart_disease_clean.csv', index=False)\n",
    "print(\"Saved cleaned CSV.\")\n"
   ]
  }
 ],
 "metadata": {
  "kernelspec": {
   "display_name": "Python 3",
   "language": "python",
   "name": "python3"
  },
  "language_info": {
   "codemirror_mode": {
    "name": "ipython",
    "version": 3
   },
   "file_extension": ".py",
   "mimetype": "text/x-python",
   "name": "python",
   "nbconvert_exporter": "python",
   "pygments_lexer": "ipython3",
   "version": "3.13.3"
  }
 },
 "nbformat": 4,
 "nbformat_minor": 5
}
